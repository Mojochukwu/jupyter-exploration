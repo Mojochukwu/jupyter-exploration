{
 "cells": [
  {
   "cell_type": "markdown",
   "id": "e3eefecc-a4d1-4011-8412-a5031889b218",
   "metadata": {},
   "source": [
    "My first markdown cell in jupyter"
   ]
  },
  {
   "cell_type": "code",
   "execution_count": 3,
   "id": "9795b0dc-7104-40e8-80b5-e54dd95efa3c",
   "metadata": {},
   "outputs": [
    {
     "name": "stdout",
     "output_type": "stream",
     "text": [
      "Hello, World!\n"
     ]
    }
   ],
   "source": [
    "print(\"Hello, World!\")"
   ]
  }
 ],
 "metadata": {
  "kernelspec": {
   "display_name": "Python 3 (ipykernel)",
   "language": "python",
   "name": "python3"
  },
  "language_info": {
   "codemirror_mode": {
    "name": "ipython",
    "version": 3
   },
   "file_extension": ".py",
   "mimetype": "text/x-python",
   "name": "python",
   "nbconvert_exporter": "python",
   "pygments_lexer": "ipython3",
   "version": "3.12.4"
  }
 },
 "nbformat": 4,
 "nbformat_minor": 5
}
